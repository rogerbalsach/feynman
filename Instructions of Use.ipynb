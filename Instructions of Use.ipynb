{
 "cells": [
  {
   "cell_type": "code",
   "execution_count": 20,
   "metadata": {
    "scrolled": true
   },
   "outputs": [],
   "source": [
    "import Feynman as fmn\n",
    "import numpy as np"
   ]
  },
  {
   "cell_type": "markdown",
   "metadata": {},
   "source": [
    "<a id=start></a>\n",
    "# Table of Contents\n",
    "\n",
    "1. [Instructions of use](#Instructions)\n",
    "    1. [Momentum class](#Momentum)\n",
    "        1. [Argument hierarchy](#Hierarchy)\n",
    "        2. [Momentum Operations](#Operations)\n",
    "        3. [Attributes and Methods](#A&M)\n",
    "    2. [Gamma Matrices](#Gamma)\n",
    "    3. [Physics functions](#Physics)\n",
    "2. [Example of use](#Example_1)"
   ]
  },
  {
   "cell_type": "markdown",
   "metadata": {},
   "source": [
    "<a id=Instructions></a>\n",
    "# Instructions of use:\n",
    "\n",
    "This code has the purpose of help doing the computations needed to evaluate Feynman diagrams and computations of the diferent associated measurable properties. Including an easy way to define 4-vectors with all the common operations and properties associated to the momenta. Other useful features of this library is the incoporation of Lorentz transformation."
   ]
  },
  {
   "cell_type": "markdown",
   "metadata": {},
   "source": [
    "[Return to Table](#start)\n",
    "<a id=Momentum></a>\n",
    "## Momentum class:\n",
    "\n",
    "The main feature of this program is the class Momentum, it allows to define a 4-Momentum object, with some attributes like the p-slash matrices, a spinor associated or its mass.\n",
    "\n",
    "To create a 4-Momentum object simply write in your code"
   ]
  },
  {
   "cell_type": "code",
   "execution_count": 21,
   "metadata": {},
   "outputs": [
    {
     "name": "stdout",
     "output_type": "stream",
     "text": [
      "'' 4-Momentum, p=[0.15843166 0.49497173 1.26474986 0.5240985 ], p^2=-2.09\n"
     ]
    }
   ],
   "source": [
    "p = fmn.Momentum()\n",
    "print(p)"
   ]
  },
  {
   "cell_type": "markdown",
   "metadata": {},
   "source": [
    "Now $p$ becomes a 4-Momentum object, by printing $p$ you can see its main attributes, the name (in this case it has no name and we only see the ' '), the contravariant coordinates and its square $p^2$. The coordinates have been setted in a random way, you can create different 4-Momentums using the arguments *'M'* and *'coord'*, and also give a name to the momentum using the *'name'* argument"
   ]
  },
  {
   "cell_type": "code",
   "execution_count": 22,
   "metadata": {},
   "outputs": [
    {
     "name": "stdout",
     "output_type": "stream",
     "text": [
      "'' 4-Momentum, p=[ 3.0605568   0.14279278  0.43426286 -0.39753482], p^2=9.00\n",
      "'' 4-Momentum, p=[3.21270435 0.26985706 0.60729307 0.93799869], p^2=9.00\n",
      "'' 4-Momentum, p=[10.  1.  5.  2.], p^2=70.00\n",
      "'p_1' 4-Momentum, p=[ 1.29642172 -1.21662511 -0.63420709  1.97082899], p^2=-4.09\n",
      "'electron' 4-Momentum, p=[ 2.46294748  2.16477755  0.07853267 -1.06003826], p^2=0.25\n",
      "[10  1  5  2]\n",
      "'electron' 4-Momentum, p=[5.5 1.  5.  2. ], p^2=0.25\n"
     ]
    }
   ],
   "source": [
    "p = fmn.Momentum(M=3) #Creates a 4-Momentum with mass=3\n",
    "print(p)\n",
    "\n",
    "p = fmn.Momentum(3) #Same as Momentum(M=3)\n",
    "print(p)\n",
    "\n",
    "coord = fmn.array([10, 1, 5, 2]) #Set a numpy 4-vector\n",
    "p = fmn.Momentum(coord = coord) #Creates a 4-Momentum with the previous contravariant coordinates\n",
    "print(p)\n",
    "\n",
    "p = fmn.Momentum(name = 'p_1')\n",
    "print(p)\n",
    "\n",
    "p = fmn.Momentum(M=0.5, name='electron') #Creates a 4-Momentum with mass=0.5, fixing the coordinates and with name ='electron'.\n",
    "print(p)\n",
    "\n",
    "print(coord)\n",
    "p = fmn.Momentum(M=0.5, coord=coord, name='electron') #Creates a 4-Momentum with mass=0.5 and coordinates=coord.\n",
    "print(p)"
   ]
  },
  {
   "cell_type": "markdown",
   "metadata": {},
   "source": [
    "Is important to notice that the mass and coordinates can be in conflict like this last example, we will talk about this later, but see that the energy of the 4-Momentum is changed to $E=\\sqrt{m^2+|\\vec{p}|^2}$.\n",
    "\n",
    "There are two more things to know (more advanced) to have more control of your 4-Momentum. This are the *size* argument and the *'r'* coordinates.\n",
    "\n",
    "Note that all the random Momenta created until now have a 3-Momentum of order 1. If for some reason we want the coordinates to be of a diferent order of magnitude, we can use the *size* argument as showed in the next cell.\n",
    "\n",
    "Also, note that we have three posibilities until now, a completely random 4-Momentum, a random 3-Momentum with energy $E=\\sqrt{m^2+|\\vec{p}|^2}$, and a fixed 4-Momentum. But what happens if we want the 4-Momentum to have a fixed energy without specifying the 3-Momentum? Or we want the 3-Momentum to have $p_y=3$? \n",
    "\n",
    "This can be implemented using the *coord* argument, but using an *'r'* to mark what coordinates will be randomized."
   ]
  },
  {
   "cell_type": "code",
   "execution_count": 23,
   "metadata": {},
   "outputs": [
    {
     "name": "stdout",
     "output_type": "stream",
     "text": [
      "\u001b[1mSize argument:\u001b[0m\n",
      "\n",
      "No size argument: '' 4-Momentum, p=[ 1.00000219e+03 -3.32643157e-02 -1.19811154e+00  1.71694711e+00], p^2=1000000.00\n",
      "No size argument: '' 4-Momentum, p=[ 1.22282176 -0.29170424  1.16485987 -0.23087264], p^2=0.00\n",
      "With size argument: '' 4-Momentum, p=[2787.59212191  256.85759809 1863.36674273 1797.93169907], p^2=1000000.00\n",
      "With size argument: '' 4-Momentum, p=[ 1.20100270e-03 -4.76551040e-04  4.62987082e-04  3.08148231e-05], p^2=0.00\n"
     ]
    }
   ],
   "source": [
    "# Size argument:\n",
    "print('\\033[1mSize argument:\\033[0m', end='\\n\\n')\n",
    "\n",
    "p, q = fmn.Momentum(M=1e3), fmn.Momentum(M=1e-3)\n",
    "print('No size argument:', p)\n",
    "print('No size argument:', q)\n",
    "\n",
    "#The 3-momentum is always of order 1, this is how to change it:\n",
    "p, q = fmn.Momentum(M=1e3, size=1e3), fmn.Momentum(M=1e-3, size=1e-3)\n",
    "print('With size argument:', p) #Now the 3-momentum will be of order 1000\n",
    "print('With size argument:', q) #Here the 3-momentum will be of order 0.001"
   ]
  },
  {
   "cell_type": "code",
   "execution_count": 24,
   "metadata": {},
   "outputs": [
    {
     "name": "stdout",
     "output_type": "stream",
     "text": [
      "\n",
      "\u001b[1m'r' coordinate:\u001b[0m\n",
      "\n",
      "'electron' 4-Momentum, p=[ 1.03577728  0.09829705  0.32700311 -0.8403816 ], p^2=0.25\n",
      "'electron' 4-Momentum, p=[0.5 0.  0.  0. ], p^2=0.25\n",
      "'electron' 4-Momentum, p=[ 1.          0.03370665 -0.10152956 -0.85939258], p^2=0.25\n",
      "'' 4-Momentum, p=[ 16.38559202 -12.49036426   3.          -1.86505407], p^2=100.00\n",
      "'' 4-Momentum, p=[55.27416344  0.          0.         23.56338565], p^2=2500.00\n"
     ]
    }
   ],
   "source": [
    "#'r' coordinates:\n",
    "print(\"\\n\\033[1m'r' coordinate:\\033[0m\", end='\\n\\n')\n",
    "\n",
    "#Imagine we want an electron with energy E=1MeV. We can create its momentum as\n",
    "m, E = 0.5, 1 #MeV\n",
    "p = fmn.Momentum(m, name='electron') #This fixes the mass, but the energy is not 1\n",
    "print(p)\n",
    "\n",
    "#We can write a general 4-vector with energy E\n",
    "p = fmn.Momentum(m, coord=fmn.array([E, 0, 0, 0]), name='electron')\n",
    "print(p)\n",
    "#But the energy is changed to impose m=0.5, so not a solution, the solution is to use 'r' coordinates:\n",
    "p = fmn.Momentum(m, coord=fmn.array([1, 'r', 'r', 'r']), name='electron')\n",
    "print(p)\n",
    "#This has generated a random 3-vector fullfilling the condition $p^2=E^2-m^2$.\n",
    "\n",
    "#What if we want a random 4-vector, but with p_y=3? Then againg 'r' coordinates is the solution\n",
    "p = fmn.Momentum(10, coord=fmn.array(['r', 'r', 3, 'r']), size=10)\n",
    "print(p)\n",
    "\n",
    "#Or a 4-vector in the z direction:\n",
    "p = fmn.Momentum(50, coord=fmn.array(['r', 0, 0, 'r']), size=50)\n",
    "print(p)"
   ]
  },
  {
   "cell_type": "markdown",
   "metadata": {},
   "source": [
    "<a id=Hierarchy></a>\n",
    "[Return to Table](#start)\n",
    "### Argument Hierarchy\n",
    "\n",
    "Finally, to have all the possible control of your momenta we need to look at what happens when the mass and the coordinates are not compatible, as we have seen before, the mass is always the principal argument, and therefore any incompatiblility will be solved modifying the energy of the momentum. "
   ]
  },
  {
   "cell_type": "code",
   "execution_count": 25,
   "metadata": {},
   "outputs": [
    {
     "name": "stdout",
     "output_type": "stream",
     "text": [
      "'' 4-Momentum, p=[2. 1. 1. 1.], p^2=1.00\n",
      "'' 4-Momentum, p=[ 3.20670637  0.14474036 -0.62475115  0.9336498 ], p^2=9.00\n"
     ]
    }
   ],
   "source": [
    "#When the 4-momentum is not compatible with the mass the energy is changed.\n",
    "p = fmn.Momentum(M=1, coord=fmn.array([1, 1, 1, 1]))\n",
    "print(p)\n",
    "\n",
    "#Also, when using 'r' coordinates, there may be incopmatibilities:\n",
    "p = fmn.Momentum(M=3, coord=fmn.array([2, 'r', 'r', 'r']))\n",
    "print(p)\n",
    "#In this case the energy will also be changed to allow the 4-momentum to have the correct mass."
   ]
  },
  {
   "cell_type": "markdown",
   "metadata": {},
   "source": [
    "[Return to Table](#start)\n",
    "<a id=Operations></a>\n",
    "### Momentum Operations\n",
    "Now we know how to create a 4-Momenta objects, what can we do with that? Well, first of all let's look at some of their methods. The 4-Momenta objects have following operations:"
   ]
  },
  {
   "cell_type": "code",
   "execution_count": 26,
   "metadata": {},
   "outputs": [
    {
     "name": "stdout",
     "output_type": "stream",
     "text": [
      "\u001b[1mSum of Momenta:\u001b[0m\n",
      "\n",
      "'p1' 4-Momentum, p=[ 5.81200437  2.68674171 -0.66069159  1.06033031], p^2=25.00\n",
      "'p2' 4-Momentum, p=[3.23120158 0.99827477 0.53350369 0.39935572], p^2=9.00\n",
      "'p1 + p2' 4-Momentum, p=[ 9.04320595  3.68501648 -0.1271879   1.45968603], p^2=66.05\n",
      "\n",
      "'Named with attribute' 4-Momentum, p=[ 9.04320595  3.68501648 -0.1271879   1.45968603], p^2=66.05\n",
      "'Named with method' 4-Momentum, p=[ 9.04320595  3.68501648 -0.1271879   1.45968603], p^2=66.05\n",
      "\n",
      "\u001b[1mSubtraction of Momenta:\u001b[0m\n",
      "\n",
      "'p1 - p2' 4-Momentum, p=[ 2.58080278  1.68846695 -1.19419527  0.6609746 ], p^2=1.95\n",
      "'Named with attribute' 4-Momentum, p=[ 2.58080278  1.68846695 -1.19419527  0.6609746 ], p^2=1.95\n",
      "'Named with method' 4-Momentum, p=[ 2.58080278  1.68846695 -1.19419527  0.6609746 ], p^2=1.95\n",
      "\n",
      "\u001b[1mProduct of Momenta:\u001b[0m\n",
      "\n",
      "'p' 4-Momentum, p=[2.88459398 0.37537688 0.977979   1.79541964], p^2=4.00\n",
      "'2*p' 4-Momentum, p=[5.76918796 0.75075375 1.955958   3.59083929], p^2=16.00\n",
      "'3*p' 4-Momentum, p=[8.65378194 1.12613063 2.93393701 5.38625893], p^2=36.00\n",
      "q1*q2: 23.99999999999999\n",
      "\n",
      "\u001b[1mPowers of a Momentum:\u001b[0m\n",
      "\n",
      "'p' 4-Momentum, p=[ 2.41517544  0.78358286 -0.59574692 -0.92959988], p^2=4.00\n",
      "p^2=3.999999999999999\n",
      "p^4=15.999999999999993\n",
      "p^6=63.99999999999996\n",
      "'p' 4-Momentum, p=[ 2.41517544  0.78358286 -0.59574692 -0.92959988], p^2=4.00\n",
      "p^3='3.999999999999999*p' 4-Momentum, p=[ 9.66070177  3.13433144 -2.38298767 -3.71839951], p^2=64.00\n",
      "p^5='15.999999999999993*p' 4-Momentum, p=[ 38.6428071   12.53732575  -9.53195069 -14.87359806], p^2=1024.00\n"
     ]
    }
   ],
   "source": [
    "#Sum of 4-Momenta:\n",
    "print('\\033[1mSum of Momenta:\\033[0m', end='\\n\\n')\n",
    "p1, p2 = fmn.Momentum(M=5, name='p1'), fmn.Momentum(3, name='p2')\n",
    "print(p1, p2, sep='\\n')\n",
    "q = p1 + p2\n",
    "print(q)\n",
    "#This creates another 4-Momentum with coordinates equal to the sum of the coordinates of p1 and p2.\n",
    "\n",
    "#The default name is 'p1 + p2' but maybe one want to give a specific name, this can be done in two ways, one is with the \n",
    "#'name' attribute (we will see the attributes in a moment), the other is using the __add__ method:\n",
    "q.name = 'Named with attribute'\n",
    "print('\\n', q, sep='')\n",
    "\n",
    "#Fot the second way, we need to know that when we write p1+p2 python calls the function p1.__add__(p2), in this case this\n",
    "#function takes an extra argument that is the name, so we can set the name directly by\n",
    "q = p1.__add__(p2, 'Named with method')\n",
    "print(q)\n",
    "\n",
    "#Subtraction of Momenta\n",
    "print('\\n\\033[1mSubtraction of Momenta:\\033[0m', end='\\n\\n')\n",
    "#In the same way we can sum momenta, we can subtract them\n",
    "q = p1 - p2\n",
    "print(q)\n",
    "#Again we can change its name\n",
    "q.name = 'Named with attribute'\n",
    "print(q)\n",
    "q = p1.__sub__(p2, 'Named with method')\n",
    "print(q)\n",
    "\n",
    "#Multiplication of Momenta:\n",
    "print('\\n\\033[1mProduct of Momenta:\\033[0m', end='\\n\\n')\n",
    "#This haves two options; the multiplication by scalars, which returns another 4-Momentum:\n",
    "p = fmn.Momentum(M=2, name='p')\n",
    "print(p)\n",
    "q1 = 2*p\n",
    "q2 = p*3\n",
    "print(q1, q2, sep='\\n')\n",
    "#Note that the multiplication works from both sides. \n",
    "#The other option is the multiplication by another 4-Momentum:\n",
    "#This returns a number, that is the scalar product (with Minkowski metric +---) of the two 4-Momenta.\n",
    "print('q1*q2:', q1*q2)\n",
    "\n",
    "#Finally, we can also take integer powers:\n",
    "print('\\n\\033[1mPowers of a Momentum:\\033[0m', end='\\n\\n')\n",
    "#Even powers give a number, defined by p^n = (sqrt(p^2))^n:\n",
    "p = fmn.Momentum(2, name='p')\n",
    "print(p)\n",
    "print(f'p^2={p**2}', f'p^4={p**4}', f'p^6={p**6}', sep='\\n')\n",
    "#Odd powers give a 4-Momentum defined as p^n = p^(n-1) * p\n",
    "print(p)\n",
    "print(f'p^3={p**3}', f'p^5={p**5}', sep='\\n')"
   ]
  },
  {
   "cell_type": "markdown",
   "metadata": {},
   "source": [
    "[Return to Table](#start)\n",
    "<a id=A&M></a>\n",
    "### Attributes and Methods\n",
    "\n",
    "Now we can study some of the attributes of the Momentum class, there are six attriutes to the Momentum class:\n",
    "\n",
    "    name: Returns a string with the name of the Momentum\n",
    "    mu: Returns a numpy vector with the contravariant coordinates of the Momentum.\n",
    "    _mu: Returns a numpy vector with the covariant coordinates of the Momentum.\n",
    "    m2: Returns the dot product of the Momentum with itself (if it is On-Shell, it returns the mass squared).\n",
    "    s: Returns a numpy matrix correspondint with the contraction of Momentum and the gamma matrices.\n",
    "    I: Returns the vector p*I (each component is the coordinate of p multiplied by the 4x4 identity)"
   ]
  },
  {
   "cell_type": "code",
   "execution_count": 27,
   "metadata": {},
   "outputs": [
    {
     "name": "stdout",
     "output_type": "stream",
     "text": [
      "'electron' 4-Momentum, p=[10.08188361 -1.12195356  0.06202025 -0.61785992], p^2=100.00\n",
      "name: electron\n",
      "p^mu: [10.08188361 -1.12195356  0.06202025 -0.61785992]\n",
      "p_mu: [10.08188361  1.12195356 -0.06202025  0.61785992]\n",
      "p^2: 99.99999999999999\n",
      "[[ 10.08188361+0.j           0.        +0.j\n",
      "    0.61785992+0.j           1.12195356+0.06202025j]\n",
      " [  0.        +0.j          10.08188361+0.j\n",
      "    1.12195356-0.06202025j  -0.61785992+0.j        ]\n",
      " [ -0.61785992+0.j          -1.12195356-0.06202025j\n",
      "  -10.08188361+0.j           0.        +0.j        ]\n",
      " [ -1.12195356+0.06202025j   0.61785992+0.j\n",
      "    0.        +0.j         -10.08188361+0.j        ]]\n",
      "[[[10.08188361  0.          0.          0.        ]\n",
      "  [ 0.         10.08188361  0.          0.        ]\n",
      "  [ 0.          0.         10.08188361  0.        ]\n",
      "  [ 0.          0.          0.         10.08188361]]\n",
      "\n",
      " [[-1.12195356 -0.         -0.         -0.        ]\n",
      "  [-0.         -1.12195356 -0.         -0.        ]\n",
      "  [-0.         -0.         -1.12195356 -0.        ]\n",
      "  [-0.         -0.         -0.         -1.12195356]]\n",
      "\n",
      " [[ 0.06202025  0.          0.          0.        ]\n",
      "  [ 0.          0.06202025  0.          0.        ]\n",
      "  [ 0.          0.          0.06202025  0.        ]\n",
      "  [ 0.          0.          0.          0.06202025]]\n",
      "\n",
      " [[-0.61785992 -0.         -0.         -0.        ]\n",
      "  [-0.         -0.61785992 -0.         -0.        ]\n",
      "  [-0.         -0.         -0.61785992 -0.        ]\n",
      "  [-0.         -0.         -0.         -0.61785992]]]\n"
     ]
    }
   ],
   "source": [
    "p = fmn.Momentum(10, name='electron')\n",
    "print(p)\n",
    "print('name:', p.name)\n",
    "print('p^mu:', p.mu) \n",
    "print('p_mu:', p._mu)\n",
    "print('p^2:', p.m2) #Same as p*p or p**2\n",
    "print(p.s)\n",
    "print(p.I)"
   ]
  },
  {
   "cell_type": "markdown",
   "metadata": {},
   "source": [
    "Finally there are some more methods that we can call, for example:\n",
    "\n",
    "    p.dot(q): Returns the dot product (with Minkowski metric +---) of the 4-vectors P and Q.\n",
    "    p.u(s): Returns a u spinor of 4-Momentum P and polarization s. Similarly there are this other 3 functions\n",
    "    p.u_(s): Returns the adjoint u-spinor.\n",
    "    p.v(s): Returns a v spinor.\n",
    "    p.v_(s): Returns the adjoint v-spinor.\n",
    "    p.e(s): Returns the contravariant polarization for spin 1 particles\n",
    "    p.e_(s): Returns the covariant polarization"
   ]
  },
  {
   "cell_type": "code",
   "execution_count": 28,
   "metadata": {
    "scrolled": true
   },
   "outputs": [
    {
     "name": "stdout",
     "output_type": "stream",
     "text": [
      "'p' 4-Momentum, p=[ 3.36393867 -0.29138987  2.41576494 -2.09648637], p^2=1.00\n",
      "8.64466707279382 8.64466707279382\n",
      "[[ 2.08900423+0.j        ]\n",
      " [ 0.        +0.j        ]\n",
      " [-1.00358168+0.j        ]\n",
      " [-0.13948745+1.15641936j]]\n",
      "[[ 0.        +0.j          2.08900423+0.j          0.13948745-1.15641936j\n",
      "  -1.00358168+0.j        ]]\n",
      "[[ 1.00358168+0.j        ]\n",
      " [ 0.13948745-1.15641936j]\n",
      " [-2.08900423-0.j        ]\n",
      " [ 0.        -0.j        ]]\n",
      "[[1.00358168+0.j         0.13948745+1.15641936j 2.08900423+0.j\n",
      "  0.        +0.j        ]]\n",
      "[ 0.         -0.99280382 -0.11975212  0.        ]\n",
      "[ 3.21186603  0.30518635 -2.53014448  2.19574898]\n"
     ]
    }
   ],
   "source": [
    "p, q = fmn.Momentum(1, name='p'), fmn.Momentum(2, name='q')\n",
    "print(p)\n",
    "print(p.dot(q), p*q) #They are the same\n",
    "print(p.u(1))\n",
    "print(p.u_(2))\n",
    "print(p.v(2))\n",
    "print(p.v_(2))\n",
    "print(p.e(2))\n",
    "print(p.e_(3))"
   ]
  },
  {
   "cell_type": "markdown",
   "metadata": {},
   "source": [
    "[Return to Table](#start)\n",
    "<a id=Gamma></a>\n",
    "## Gamma Matrices\n",
    "\n",
    "This code also incorporates the Dirac $\\gamma$ matrices (in 4 dimensions), with the *gamma* function and also with a vector form"
   ]
  },
  {
   "cell_type": "code",
   "execution_count": 29,
   "metadata": {},
   "outputs": [
    {
     "name": "stdout",
     "output_type": "stream",
     "text": [
      "gamma function:\n",
      "[[ 1  0  0  0]\n",
      " [ 0  1  0  0]\n",
      " [ 0  0 -1  0]\n",
      " [ 0  0  0 -1]]\n",
      "[[0.+0.j 0.+0.j 1.+0.j 0.+0.j]\n",
      " [0.+0.j 0.+0.j 0.+0.j 1.+0.j]\n",
      " [1.+0.j 0.+0.j 0.+0.j 0.+0.j]\n",
      " [0.+0.j 1.+0.j 0.+0.j 0.+0.j]]\n",
      "\n",
      "Gamma_matrices vector:\n",
      "[[[ 1.+0.j  0.+0.j  0.+0.j  0.+0.j]\n",
      "  [ 0.+0.j  1.+0.j  0.+0.j  0.+0.j]\n",
      "  [ 0.+0.j  0.+0.j -1.+0.j  0.+0.j]\n",
      "  [ 0.+0.j  0.+0.j  0.+0.j -1.+0.j]]\n",
      "\n",
      " [[ 0.+0.j  0.+0.j  0.+0.j  1.+0.j]\n",
      "  [ 0.+0.j  0.+0.j  1.+0.j  0.+0.j]\n",
      "  [ 0.+0.j -1.+0.j  0.+0.j  0.+0.j]\n",
      "  [-1.+0.j  0.+0.j  0.+0.j  0.+0.j]]\n",
      "\n",
      " [[ 0.+0.j  0.+0.j  0.+0.j -0.-1.j]\n",
      "  [ 0.+0.j  0.+0.j  0.+1.j  0.+0.j]\n",
      "  [ 0.+0.j  0.+1.j  0.+0.j  0.+0.j]\n",
      "  [-0.-1.j  0.+0.j  0.+0.j  0.+0.j]]\n",
      "\n",
      " [[ 0.+0.j  0.+0.j  1.+0.j  0.+0.j]\n",
      "  [ 0.+0.j  0.+0.j  0.+0.j -1.+0.j]\n",
      "  [-1.+0.j  0.+0.j  0.+0.j  0.+0.j]\n",
      "  [ 0.+0.j  1.+0.j  0.+0.j  0.+0.j]]]\n",
      "\n",
      "Gamma_matrices_cov vector:\n",
      "[[[ 1.+0.j  0.+0.j  0.+0.j  0.+0.j]\n",
      "  [ 0.+0.j  1.+0.j  0.+0.j  0.+0.j]\n",
      "  [ 0.+0.j  0.+0.j -1.+0.j  0.+0.j]\n",
      "  [ 0.+0.j  0.+0.j  0.+0.j -1.+0.j]]\n",
      "\n",
      " [[ 0.+0.j  0.+0.j  0.+0.j -1.+0.j]\n",
      "  [ 0.+0.j  0.+0.j -1.+0.j  0.+0.j]\n",
      "  [ 0.+0.j  1.+0.j  0.+0.j  0.+0.j]\n",
      "  [ 1.+0.j  0.+0.j  0.+0.j  0.+0.j]]\n",
      "\n",
      " [[-0.-0.j -0.-0.j -0.-0.j  0.+1.j]\n",
      "  [-0.-0.j -0.-0.j -0.-1.j -0.-0.j]\n",
      "  [-0.-0.j -0.-1.j -0.-0.j -0.-0.j]\n",
      "  [ 0.+1.j -0.-0.j -0.-0.j -0.-0.j]]\n",
      "\n",
      " [[ 0.+0.j  0.+0.j -1.+0.j  0.+0.j]\n",
      "  [ 0.+0.j  0.+0.j  0.+0.j  1.+0.j]\n",
      "  [ 1.+0.j  0.+0.j  0.+0.j  0.+0.j]\n",
      "  [ 0.+0.j -1.+0.j  0.+0.j  0.+0.j]]]\n",
      "\n"
     ]
    }
   ],
   "source": [
    "#We can call the gamma matrices in several forms:\n",
    "#Using the gamma fucntion\n",
    "print('gamma function:', fmn.gamma(0), fmn.gamma(5), sep='\\n', end='\\n\\n')\n",
    "\n",
    "#Using the Gamma_matrices vector.\n",
    "print('Gamma_matrices vector:', fmn.Gamma_matrices, sep='\\n', end='\\n\\n')\n",
    "\n",
    "#To get the covariant gamma matrices we can use the Gamma_matrices_cov vector\n",
    "print('Gamma_matrices_cov vector:', fmn.Gamma_matrices_cov, sep='\\n', end='\\n\\n')"
   ]
  },
  {
   "cell_type": "markdown",
   "metadata": {},
   "source": [
    "Also the sigma tensor $\\sigma^{\\mu\\nu}=\\frac{i}{2}[\\gamma^\\mu,\\gamma^\\nu]$"
   ]
  },
  {
   "cell_type": "code",
   "execution_count": 30,
   "metadata": {},
   "outputs": [
    {
     "name": "stdout",
     "output_type": "stream",
     "text": [
      "Sigma_matrix^1,2:\n",
      "[[ 1.+0.j  0.+0.j  0.+0.j  0.+0.j]\n",
      " [ 0.+0.j -1.+0.j  0.+0.j  0.+0.j]\n",
      " [ 0.+0.j  0.+0.j  1.+0.j  0.+0.j]\n",
      " [ 0.+0.j  0.+0.j  0.+0.j -1.+0.j]]\n",
      "\n",
      "Sigma_matrices:\n",
      "[[[[ 0.+0.j  0.+0.j  0.+0.j  0.+0.j]\n",
      "   [ 0.+0.j  0.+0.j  0.+0.j  0.+0.j]\n",
      "   [ 0.+0.j  0.+0.j  0.+0.j  0.+0.j]\n",
      "   [ 0.+0.j  0.+0.j  0.+0.j  0.+0.j]]\n",
      "\n",
      "  [[ 0.+0.j  0.+0.j  0.+0.j  0.+1.j]\n",
      "   [ 0.+0.j  0.+0.j  0.+1.j  0.+0.j]\n",
      "   [ 0.+0.j  0.+1.j  0.+0.j  0.+0.j]\n",
      "   [ 0.+1.j  0.+0.j  0.+0.j  0.+0.j]]\n",
      "\n",
      "  [[ 0.+0.j  0.+0.j  0.+0.j  1.+0.j]\n",
      "   [ 0.+0.j  0.+0.j -1.+0.j  0.+0.j]\n",
      "   [ 0.+0.j  1.+0.j  0.+0.j  0.+0.j]\n",
      "   [-1.+0.j  0.+0.j  0.+0.j  0.+0.j]]\n",
      "\n",
      "  [[ 0.+0.j  0.+0.j  0.+1.j  0.+0.j]\n",
      "   [ 0.+0.j  0.+0.j  0.+0.j -0.-1.j]\n",
      "   [ 0.+1.j  0.+0.j  0.+0.j  0.+0.j]\n",
      "   [ 0.+0.j -0.-1.j  0.+0.j  0.+0.j]]]\n",
      "\n",
      "\n",
      " [[[ 0.+0.j  0.+0.j  0.+0.j -0.-1.j]\n",
      "   [ 0.+0.j  0.+0.j -0.-1.j  0.+0.j]\n",
      "   [ 0.+0.j -0.-1.j  0.+0.j  0.+0.j]\n",
      "   [-0.-1.j  0.+0.j  0.+0.j  0.+0.j]]\n",
      "\n",
      "  [[ 0.+0.j  0.+0.j  0.+0.j  0.+0.j]\n",
      "   [ 0.+0.j  0.+0.j  0.+0.j  0.+0.j]\n",
      "   [ 0.+0.j  0.+0.j  0.+0.j  0.+0.j]\n",
      "   [ 0.+0.j  0.+0.j  0.+0.j  0.+0.j]]\n",
      "\n",
      "  [[ 1.+0.j  0.+0.j  0.+0.j  0.+0.j]\n",
      "   [ 0.+0.j -1.+0.j  0.+0.j  0.+0.j]\n",
      "   [ 0.+0.j  0.+0.j  1.+0.j  0.+0.j]\n",
      "   [ 0.+0.j  0.+0.j  0.+0.j -1.+0.j]]\n",
      "\n",
      "  [[ 0.+0.j  0.+1.j  0.+0.j  0.+0.j]\n",
      "   [-0.-1.j  0.+0.j  0.+0.j  0.+0.j]\n",
      "   [ 0.+0.j  0.+0.j  0.+0.j  0.+1.j]\n",
      "   [ 0.+0.j  0.+0.j -0.-1.j  0.+0.j]]]\n",
      "\n",
      "\n",
      " [[[ 0.+0.j  0.+0.j  0.+0.j -1.+0.j]\n",
      "   [ 0.+0.j  0.+0.j  1.+0.j  0.+0.j]\n",
      "   [ 0.+0.j -1.+0.j  0.+0.j  0.+0.j]\n",
      "   [ 1.+0.j  0.+0.j  0.+0.j  0.+0.j]]\n",
      "\n",
      "  [[-1.+0.j  0.+0.j  0.+0.j  0.+0.j]\n",
      "   [ 0.+0.j  1.+0.j  0.+0.j  0.+0.j]\n",
      "   [ 0.+0.j  0.+0.j -1.+0.j  0.+0.j]\n",
      "   [ 0.+0.j  0.+0.j  0.+0.j  1.+0.j]]\n",
      "\n",
      "  [[ 0.+0.j  0.+0.j  0.+0.j  0.+0.j]\n",
      "   [ 0.+0.j  0.+0.j  0.+0.j  0.+0.j]\n",
      "   [ 0.+0.j  0.+0.j  0.+0.j  0.+0.j]\n",
      "   [ 0.+0.j  0.+0.j  0.+0.j  0.+0.j]]\n",
      "\n",
      "  [[ 0.+0.j  1.+0.j  0.+0.j  0.+0.j]\n",
      "   [ 1.+0.j  0.+0.j  0.+0.j  0.+0.j]\n",
      "   [ 0.+0.j  0.+0.j  0.+0.j  1.+0.j]\n",
      "   [ 0.+0.j  0.+0.j  1.+0.j  0.+0.j]]]\n",
      "\n",
      "\n",
      " [[[ 0.+0.j  0.+0.j -0.-1.j  0.+0.j]\n",
      "   [ 0.+0.j  0.+0.j  0.+0.j  0.+1.j]\n",
      "   [-0.-1.j  0.+0.j  0.+0.j  0.+0.j]\n",
      "   [ 0.+0.j  0.+1.j  0.+0.j  0.+0.j]]\n",
      "\n",
      "  [[ 0.+0.j -0.-1.j  0.+0.j  0.+0.j]\n",
      "   [ 0.+1.j  0.+0.j  0.+0.j  0.+0.j]\n",
      "   [ 0.+0.j  0.+0.j  0.+0.j -0.-1.j]\n",
      "   [ 0.+0.j  0.+0.j  0.+1.j  0.+0.j]]\n",
      "\n",
      "  [[ 0.+0.j -1.+0.j  0.+0.j  0.+0.j]\n",
      "   [-1.+0.j  0.+0.j  0.+0.j  0.+0.j]\n",
      "   [ 0.+0.j  0.+0.j  0.+0.j -1.+0.j]\n",
      "   [ 0.+0.j  0.+0.j -1.+0.j  0.+0.j]]\n",
      "\n",
      "  [[ 0.+0.j  0.+0.j  0.+0.j  0.+0.j]\n",
      "   [ 0.+0.j  0.+0.j  0.+0.j  0.+0.j]\n",
      "   [ 0.+0.j  0.+0.j  0.+0.j  0.+0.j]\n",
      "   [ 0.+0.j  0.+0.j  0.+0.j  0.+0.j]]]]\n"
     ]
    }
   ],
   "source": [
    "print('Sigma_matrix^1,2:', fmn.Sigma_matrices[1][2], sep='\\n', end='\\n\\n')\n",
    "print('Sigma_matrices:', fmn.Sigma_matrices, sep='\\n')"
   ]
  },
  {
   "cell_type": "markdown",
   "metadata": {},
   "source": [
    "[Return to Table](#start)\n",
    "<a id=Physics></a>\n",
    "## Physics functions\n",
    "\n",
    "Also provides the following physical functions:\n",
    "\n",
    "    dot product using minkowski metric: fmn.dot(a,b)\n",
    "$$a\\cdot b = a^0b^0 - a^1b^1 - a^2b^2 - a^3b^3$$\n",
    "\n",
    "    square of a vector: fmn.square(a)\n",
    "$$a^2 = a \\cdot a$$\n",
    "\n",
    "    Kronecker delta: fmn.delta(i,j)\n",
    "$$\\delta_{ij}=\\begin{cases}\n",
    "1 & \\text{ if } i = j\\\\\n",
    "0 & \\text{ if } i \\neq j\n",
    "\\end{cases}$$\n",
    "\n",
    "    Minkowski metric: fmn.eta(m,n)"
   ]
  },
  {
   "cell_type": "code",
   "execution_count": 46,
   "metadata": {},
   "outputs": [
    {
     "name": "stdout",
     "output_type": "stream",
     "text": [
      "a = [-0.40336298  0.56273258  2.16500887 -1.09990734]\n",
      "b = [ 1.3791912   1.42238964 -0.57874327 -0.92965886]\n",
      "a * b = -1.1262939505551819\n"
     ]
    }
   ],
   "source": [
    "a = fmn.randn(4)\n",
    "b = fmn.randn(4)\n",
    "\n",
    "print(f'a = {a}', \n",
    "      f'b = {b}', \n",
    "      f'a * b = {fmn.dot(a,b)}',\n",
    "     sep = '\\n')"
   ]
  },
  {
   "cell_type": "markdown",
   "metadata": {},
   "source": [
    "[Return to Table](#start)\n",
    "<a id=Example_1></a>\n",
    "## Lets give an example of how to use this code: \n",
    "Suppose we want to study the $e^-\\mu^-$ elastic scattering. We can start by definig four 4-vectors:"
   ]
  },
  {
   "cell_type": "code",
   "execution_count": 32,
   "metadata": {},
   "outputs": [
    {
     "name": "stdout",
     "output_type": "stream",
     "text": [
      "'initial electron' 4-Momentum, p=[ 2.4557353   1.25853288 -0.30704843 -2.02270391], p^2=0.26\n",
      "'initial muon' 4-Momentum, p=[ 1.05014771e+02 -9.04245348e-02 -7.93650571e-01 -1.56974395e+00], p^2=11025.00\n",
      "'final electron' 4-Momentum, p=[ 1.16775834 -0.02515572 -0.81987677 -0.65552103], p^2=0.26\n",
      "'final muon' 4-Momentum, p=[105.01556558   0.60584281   0.51468212  -1.6239062 ], p^2=11025.00\n"
     ]
    }
   ],
   "source": [
    "m, M = 0.511, 105 #electron and muon masses.\n",
    "p1, p2 = fmn.Momentum(m, name='initial electron'), fmn.Momentum(M, name='initial muon')\n",
    "p3, p4 = fmn.Momentum(m, name='final electron'), fmn.Momentum(M, name='final muon')\n",
    "print(p1, p2, p3, p4, sep='\\n')"
   ]
  },
  {
   "cell_type": "markdown",
   "metadata": {},
   "source": [
    "Note that the 4-Momenta are generated randomly, and therefore we cannot assume conservation of 4-Momenta! (We will deal with this later). There is only one diagram contributing to the process, the t-channel. So we can define the 4-Momentum of the photon:"
   ]
  },
  {
   "cell_type": "code",
   "execution_count": 33,
   "metadata": {},
   "outputs": [
    {
     "name": "stdout",
     "output_type": "stream",
     "text": [
      "'initial electron - final electron' 4-Momentum, p=[ 1.28797695  1.2836886   0.51282834 -1.36718288], p^2=-2.12\n",
      "'photon' 4-Momentum, p=[ 1.28797695  1.2836886   0.51282834 -1.36718288], p^2=-2.12\n"
     ]
    }
   ],
   "source": [
    "#Now we can define the photon 4-Momenta:\n",
    "q = p1 - p3\n",
    "print(q)\n",
    "#If we want to give Q a name we can do it modifying its attribute, or by using the __sub__ method:\n",
    "q.name = 'photon' #or\n",
    "q = p1.__sub__(p3, 'photon')\n",
    "print(q)"
   ]
  },
  {
   "cell_type": "markdown",
   "metadata": {},
   "source": [
    "Now, the amplitude is given by the equation\n",
    "$$\\mathscr{M}_t=\\frac{e^2}{q^2}[\\bar{u}_3\\gamma^\\mu u_1][\\bar{u}_4\\gamma_\\mu u_2]$$\n",
    "To write this we need the $\\gamma$ matrices, which are alredy implemented and can be called in two ways:\n",
    "\n",
    "    gamma(i) #Returns the i=0,1,2,3 'contravariant' gamma matrix\n",
    "    Gamma_matrices #Returns the i=0,1,2,3 'contravariant' gamma matrix\n",
    "    Gamma_matrices_cov #Returns the i=0,1,2,3 'covariant' gamma matrix\n",
    "Using this second we can now write the amplitude as:"
   ]
  },
  {
   "cell_type": "code",
   "execution_count": 34,
   "metadata": {},
   "outputs": [
    {
     "name": "stdout",
     "output_type": "stream",
     "text": [
      "[[0.08078174-0.02957014j]] [[0.08078174-0.02957014j]]\n",
      "[[ True]]\n"
     ]
    },
    {
     "data": {
      "text/plain": [
       "array([[ True]])"
      ]
     },
     "execution_count": 34,
     "metadata": {},
     "output_type": "execute_result"
    }
   ],
   "source": [
    "e = fmn.sqrt(4 * fmn.pi / 137) #Electron and muon charge\n",
    "G = fmn.Gamma_matrices\n",
    "G_ = fmn.Gamma_matrices_cov\n",
    "s1, s2, s3, s4 = 1, 2, 2, 1 #We choose a polarization of the particles arbitrarily.\n",
    "A_1 = 0\n",
    "for mu in range(4): #We need to sum over the mu index!\n",
    "    A_1 += e**2 / q**2 * (p3.u_(s3)@G[mu]@p1.u(s1)) * (p4.u_(s4)@G_[mu]@p2.u(s2)) #We can use G_ to avoid using the metric\n",
    "\n",
    "#Instead of G_ we can also use the metric defined as eta(mu, nu)\n",
    "B = 0\n",
    "for mu in range(4):\n",
    "    for nu in range(4):\n",
    "        B += e**2 / q**2 * (p3.u_(s3)@fmn.gamma(mu)@p1.u(s1)) * fmn.eta(mu, nu) * (p4.u_(s4)@fmn.gamma(nu)@p2.u(s2))\n",
    "    \n",
    "print(A_1, B)\n",
    "print(fmn.comprv(A_1, B)) #They are equal, of course.\n",
    "\n",
    "#An equivalent way to do this computation is using the power of numpy (this is not always possible and you must sum the \n",
    "#old way)\n",
    "\n",
    "A_2 = e**2/  q**2 * np.sum( (p3.u_(s3)@G@p1.u(s1)) * (p4.u_(s4)@G_@p2.u(s2)) )\n",
    "\n",
    "#And we can use the comprv function to be sure that this two amplitudes are indeed the same\n",
    "fmn.comprv(A_1, A_2)"
   ]
  },
  {
   "cell_type": "markdown",
   "metadata": {},
   "source": [
    "But generally we are not interested in the polarized amplitude, but rather in the unpolarized square amplitude. \n",
    "$$\\left<|\\mathscr{M}|^2\\right> \\equiv \\frac{1}{N_{\\text{initial}}}\\sum_{\\text{initial}}\\sum_{\\text{final}} |\\mathscr{M}|^2$$\n",
    "We can then simply sum over the polarizations in the old way, or use the *average* function."
   ]
  },
  {
   "cell_type": "code",
   "execution_count": 35,
   "metadata": {},
   "outputs": [
    {
     "name": "stdout",
     "output_type": "stream",
     "text": [
      "749.3169593672296\n",
      "749.3169593672299\n"
     ]
    },
    {
     "data": {
      "text/plain": [
       "True"
      ]
     },
     "execution_count": 35,
     "metadata": {},
     "output_type": "execute_result"
    }
   ],
   "source": [
    "A_1 = 0\n",
    "for s1 in range(1,3):\n",
    "    for s2 in range(1,3):\n",
    "        for s3 in range(1,3):\n",
    "            for s4 in range(1,3):\n",
    "                A_1 += abs( e**2 / q**2 * np.sum( (p3.u_(s3)@G@p1.u(s1)) * (p4.u_(s4)@G_@p2.u(s2)) ) )**2\n",
    "A_1 = 0.25 * A_1\n",
    "print(A_1)\n",
    "\n",
    "#But we can also use the average function, to do that we need to define the amplitude as a function of the polarizations:\n",
    "\n",
    "def A(S): #The function must take only one argument with a list of polarizations\n",
    "    s1, s2, s3, s4 = S\n",
    "    return abs( e**2 / q**2 * np.sum(p3.u_(s3)@G@p1.u(s1) * p4.u_(s4)@G_@p2.u(s2)) )**2 #We want to average the square \n",
    "                                                                                         #of the amplitude.\n",
    "A_2 = fmn.average(A, [2,2], [2,2])\n",
    "print(A_2)\n",
    "\n",
    "fmn.comprv(A_1, A_2)"
   ]
  },
  {
   "cell_type": "markdown",
   "metadata": {},
   "source": [
    "The average function takes 3 arguments, the first one is a function of the polarizations (that must be introduced as a single list), then the other two are the total polarizations of the initial and final states. (1 for KG, 2 for Dirac particles and massless particles, 3 for massive vectorial bosons, etc.). \n",
    "\n",
    "The result of the average function is simply\n",
    "$$\\frac{1}{N_{\\text{initial}}}\\sum_{\\text{initial}}\\sum_{\\text{final}} f$$\n",
    "\n",
    "\n",
    "After some calculation one finds that\n",
    "$$\\left<|\\mathscr{M}|^2\\right>=\\frac{8e^4}{q^4}\\left[(p_1\\cdot p_2)(p_3\\cdot p_4)+(p_1\\cdot p_4)(p_2\\cdot p_3) - (p_1\\cdot p_3)M^2-(p_2\\cdot p_4)m^2+2m^2M^2\\right]$$\n",
    "with $m$ and $M$ the masses of the electron and the muon. How can we know if this is correct? Well, first we need to introduce this expresion to our code and then all that is left is to call the *comprv* function to see if this expresion really is equal to the averaged amplitude."
   ]
  },
  {
   "cell_type": "code",
   "execution_count": 36,
   "metadata": {},
   "outputs": [
    {
     "name": "stdout",
     "output_type": "stream",
     "text": [
      "749.3169593672296\n",
      "749.3169593672294\n",
      "2.2737367544323206e-13 3.0344125086297353e-16 True\n"
     ]
    },
    {
     "data": {
      "text/plain": [
       "True"
      ]
     },
     "execution_count": 36,
     "metadata": {},
     "output_type": "execute_result"
    }
   ],
   "source": [
    "A_3 = 8 * e**4 / q**4 * ( (p1*p2)*(p3*p4) + (p1*p4)*(p2*p3) - (p1*p3)*M**2 - (p2*p4)*m**2 + 2*(m*M)**2 )\n",
    "\n",
    "fmn.comprv(A_1, A_3, True)"
   ]
  },
  {
   "cell_type": "markdown",
   "metadata": {},
   "source": [
    "And since this returns the value True (you can run the code multiple times, creating different random vectors and see that for all of them the result is True).\n",
    "\n",
    "Now we can still simplify using the Mandelstam variables and write\n",
    "$$\\left<|\\mathscr{M}|^2\\right>=\\frac{8e^4}{t^2}\\left[\\left(\\frac{s-m^2-M^2}{2}\\right)^2+\\left(\\frac{m^2+M^2-u}{2}\\right)^2 - \\left(\\frac{2m^2-t}{2}\\right)M^2-\\left(\\frac{2M^2-t}{2}\\right)m^2+2m^2M^2\\right]$$\n",
    "$$\\left<|\\mathscr{M}|^2\\right>=\\frac{2e^4}{t^2}\\left[s^2+u^2-4(M^2+m^2)(u+s)+6(m^2+M^2)^2\\right]$$\n",
    "\n",
    "We can define the mandelsam variables by hand, or use the specific function *Mandelstam*."
   ]
  },
  {
   "cell_type": "code",
   "execution_count": 37,
   "metadata": {},
   "outputs": [
    {
     "name": "stdout",
     "output_type": "stream",
     "text": [
      "[ True  True  True]\n",
      "749.3169593672296\n",
      "1838.7172447466776\n",
      "1089.400285379448 1.4538577724163697 False\n"
     ]
    },
    {
     "data": {
      "text/plain": [
       "False"
      ]
     },
     "execution_count": 37,
     "metadata": {},
     "output_type": "execute_result"
    }
   ],
   "source": [
    "s, t, u = (p1+p2)**2, (p1-p3)**2, (p1-p4)**2\n",
    "S, T, U = fmn.Mandelstam(p1, p2, p3, p4)\n",
    "\n",
    "print(fmn.comprv(fmn.array([s, t, u]), fmn.array([S, T, U])))\n",
    "\n",
    "A_4 = 2 * e**4 / t**2 * (s**2 + u**2 - 4*(M**2+m**2)*(u+s) + 6*(M**2+m**2)**2)\n",
    "\n",
    "fmn.comprv(A_1, A_4, print_arg=True)"
   ]
  },
  {
   "cell_type": "markdown",
   "metadata": {},
   "source": [
    "###### The comprv function tells us that this is not equal to our previous expresions! \n",
    "\n",
    "Of course that's because we have implicitly used 4-Momentum conservation, but remember that we are generating random momenta and therefore they don't conserve the total momentum. When we need to impose 4-Momentum conservation we need to use a specific function; *Generate_scattering_2x2*, that will generate 4 random 4-momentum fullfilling "
   ]
  },
  {
   "cell_type": "code",
   "execution_count": 38,
   "metadata": {
    "scrolled": true
   },
   "outputs": [
    {
     "name": "stdout",
     "output_type": "stream",
     "text": [
      "'initial electron' 4-Momentum, p=[118.38025464 -52.59792409  56.47724674  89.76303554], p^2=0.26\n",
      "'initial muon' 4-Momentum, p=[158.23597432  52.59792409 -56.47724674 -89.76303554], p^2=11025.00\n",
      "0.017571443387771314\n",
      "0.0175714433877713\n",
      "1.3877787807814457e-17 7.897921361128806e-16 True\n"
     ]
    },
    {
     "data": {
      "text/plain": [
       "True"
      ]
     },
     "execution_count": 38,
     "metadata": {},
     "output_type": "execute_result"
    }
   ],
   "source": [
    "particles = {'initial electron':m, 'initial muon':M, 'final electron':m, 'final muon':M}\n",
    "p1, p2, p3, p4 = fmn.Generate_scattering_2x2(particles)\n",
    "q = p1.__sub__(p3, 'photon')\n",
    "print(p1, p2, sep='\\n')\n",
    "\n",
    "s, t, u = fmn.Mandelstam(p1, p2, p3, p4)\n",
    "A_4 = 2 * e**4 / t**2 * (s**2 + u**2 - 2*(m**2+M**2)*(u+s-t) + 2*(m**2+M**2)**2)\n",
    "fmn.comprv(fmn.average(A, [2,2], [2,2]), A_4, True)"
   ]
  },
  {
   "cell_type": "markdown",
   "metadata": {},
   "source": [
    "Now we have defined the *p1, p2, p3, p4* using the *Generate_scattering_2x2* function, which generates physical 4-Momenta in the CM reference frame (you can use the RF variable to generate physical momenta in the Lab frame). The arguments of the *Generate_scattering_2x2* are a list of the four masses and the values of *s* and *t*. And now the *comprv* function tells that the two expresions are equal."
   ]
  }
 ],
 "metadata": {
  "kernelspec": {
   "display_name": "Python 3",
   "language": "python",
   "name": "python3"
  },
  "language_info": {
   "codemirror_mode": {
    "name": "ipython",
    "version": 3
   },
   "file_extension": ".py",
   "mimetype": "text/x-python",
   "name": "python",
   "nbconvert_exporter": "python",
   "pygments_lexer": "ipython3",
   "version": "3.7.3"
  }
 },
 "nbformat": 4,
 "nbformat_minor": 2
}
